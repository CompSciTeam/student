{
 "cells": [
  {
   "cell_type": "raw",
   "id": "c0d93d55",
   "metadata": {
    "vscode": {
     "languageId": "raw"
    }
   },
   "source": [
    "---\n",
    "layout: post\n",
    "title: Functions Homework\n",
    "description: JS Functions Homework and Popcorn Hacks\n",
    "type: collab\n",
    "comments: false\n",
    "categories: [CSSE JavaScript Fundamentals]\n",
    "permalink: /csse/lessons/functions/tinkerers-hw\n",
    "---"
   ]
  },
  {
   "cell_type": "markdown",
   "id": "b0003c9e",
   "metadata": {},
   "source": [
    "<hr>\n",
    "\n",
    "<style>\n",
    ".glowing-text {\n",
    "  color: #fff; /* Set the text color to white or a light color for better contrast */\n",
    "  text-shadow: 0 0 10px #8a2be2, /* Purple glow */\n",
    "               0 0 20px #8a2be2, /* Deeper purple glow */\n",
    "               0 0 30px #4169e1, /* Blue glow */\n",
    "               0 0 40px #4169e1; /* Deeper blue glow */\n",
    "\n",
    "  font-weight: bold;\n",
    "}\n",
    "</style>\n",
    "\n",
    "<h2 class=\"glowing-text\">🍿 POPCORN HACK NO. 1 🍿</h2>\n",
    "\n",
    "**NOTE: Do all this in the provided code cell below**\n",
    "\n",
    "Oh no! Billy Bob Joe just went to Asia for vacation!  \n",
    "However, he accidentally set the heating to 80 degrees Celsius, which is around 176 degrees Fahrenheight.\n",
    "\n",
    "<img src=\"https://a.pinatafarm.com/1920x1076/2d3cc55d2a/sweating-jordan-peele.jpg\" \n",
    "     style=\"width: 25%; height: auto;\">\n",
    "\n",
    "Help Billy Bob Joe by making a function to help with the conversion from F to C! (So that he doesn't spontaneously combust from setting his thermometer to 978 degrees Fahrenheight or something)\n",
    "\n",
    "1. Define a function named toCelsius() that takes a parameter called \"degrees_fh\"\n",
    "  \n",
    "2. Write logic to make the function return the converted number of degrees in Celsius\n",
    "\n",
    "Use this image to help you:\n",
    "\n",
    "<img src=\"https://encrypted-tbn0.gstatic.com/images?q=tbn:ANd9GcTwaeck7wnmhYfZGpg-SgoLywXhClBwDATR0g&s\">\n",
    "\n",
    "3. Call the function whenever the button is pressed with the values inputted by the user as input, and save the results to a variable.\n",
    "\n",
    "4. `console.log()` the variable each time after calculating it, and append it to the end of the DOM.\n",
    "\n",
    "Side note: `console.log()` is a function that comes predefined in JavaScript! You've almost definitely used functions before, even if you didn't know about them.\n",
    "\n",
    "<hr>"
   ]
  },
  {
   "cell_type": "code",
   "execution_count": null,
   "id": "d0d3f434",
   "metadata": {
    "vscode": {
     "languageId": "html"
    }
   },
   "outputs": [
    {
     "data": {
      "text/html": [
       "\n",
       "<html>\n",
       "<body>\n",
       "\n",
       "    <p>Farenheight to Celsius Converter</p>\n",
       "\n",
       "    <input type=\"number\" id=\"inputField\" placeholder=\"Enter degrees (F)\">\n",
       "    <button id=\"calculateButton\">Calculate</button>\n",
       "\n",
       "    <div id=\"output1\">Your results will appear here.</div>\n",
       "\n",
       "    <script>\n",
       "\n",
       "    (() => {\n",
       "\n",
       "    const button = document.getElementById(\"calculateButton\");\n",
       "    const input = document.getElementById(\"inputField\");\n",
       "    const output = document.getElementById(\"output1\")\n",
       "\n",
       "    // ^^ DO NOT MODIFY ANY ABOVE CODE ^^\n",
       "\n",
       "    // Define your function out here\n",
       "\n",
       "\n",
       "\n",
       "    button.addEventListener(\"click\", () => {\n",
       "\n",
       "      /* \n",
       "      Call your toCelsius() function, using the user's input from input.value.\n",
       "      Save the result to a variable.\n",
       "\n",
       "      Note that input.value returns a string. You will need to turn it into a\n",
       "      number using Number(), and then feed that number to your function.\n",
       "\n",
       "      */ \n",
       "\n",
       "      // _________________________\n",
       "\n",
       "\n",
       "      // Log the result to console\n",
       "      // _________________________\n",
       "\n",
       "      // Add the result to the end of DOM:\n",
       "      // output.innerText += \"\\n\" + _____________\n",
       "\n",
       "\n",
       "\n",
       "    // vv DO NOT MODIFY ANY BELOW CODE vv\n",
       "    });\n",
       "\n",
       "    })();\n",
       "\n",
       "  </script>\n",
       "\n",
       "</body>\n",
       "</html>\n"
      ],
      "text/plain": [
       "<IPython.core.display.HTML object>"
      ]
     },
     "metadata": {},
     "output_type": "display_data"
    }
   ],
   "source": [
    "%%html\n",
    "\n",
    "<html>\n",
    "<body>\n",
    "\n",
    "    <p>Farenheight to Celsius Converter</p>\n",
    "\n",
    "    <input type=\"number\" id=\"inputField\" placeholder=\"Enter degrees (F)\">\n",
    "    <button id=\"calculateButton\">Calculate</button>\n",
    "\n",
    "    <div id=\"output1\">Your results will appear here.</div>\n",
    "\n",
    "    <script>\n",
    "\n",
    "    (() => {\n",
    "\n",
    "    const button = document.getElementById(\"calculateButton\");\n",
    "    const input = document.getElementById(\"inputField\");\n",
    "    const output = document.getElementById(\"output1\")\n",
    "\n",
    "    // ^^ DO NOT MODIFY ANY ABOVE CODE ^^\n",
    "\n",
    "    // Define your function out here\n",
    "\n",
    "\n",
    "\n",
    "    button.addEventListener(\"click\", () => {\n",
    "  \n",
    "      /* \n",
    "      Call your toCelsius() function, using the user's input from input.value.\n",
    "      Save the result to a variable.\n",
    "      \n",
    "      Note that input.value returns a string. You will need to turn it into a\n",
    "      number using Number(), and then feed that number to your function.\n",
    "    \n",
    "      */ \n",
    "\n",
    "      // _________________________\n",
    "\n",
    "\n",
    "      // Log the result to console\n",
    "      // _________________________\n",
    "\n",
    "      // Add the result to the end of DOM:\n",
    "      // output.innerText += \"\\n\" + _____________\n",
    "  \n",
    "    // vv DO NOT MODIFY ANY BELOW CODE vv\n",
    "    });\n",
    "\n",
    "    })();\n",
    "\n",
    "  </script>\n",
    "\n",
    "</body>\n",
    "</html>"
   ]
  },
  {
   "cell_type": "markdown",
   "id": "31894d3b",
   "metadata": {},
   "source": [
    "\n",
    "<style>\n",
    ".glowing-text {\n",
    "  color: #fff; /* Set the text color to white or a light color for better contrast */\n",
    "  text-shadow: 0 0 10px #8a2be2, /* Purple glow */\n",
    "               0 0 20px #8a2be2, /* Deeper purple glow */\n",
    "               0 0 30px #4169e1, /* Blue glow */\n",
    "               0 0 40px #4169e1; /* Deeper blue glow */\n",
    "\n",
    "  font-weight: bold;\n",
    "}\n",
    "</style>\n",
    "\n",
    "<h2 class=\"glowing-text\">🍿 POPCORN HACK NO. 2 🍿</h2>\n",
    "\n",
    "Let's practice using scope!\n",
    "\n",
    "1. Create a global variable called myVar and assign it the string \"I am global\".\n",
    "2. Write a function called scopeTest that:\n",
    "    a. Declares a variable myVar inside the function with the value \"I am local\".\n",
    "    b. Declares a variable blockVar inside an if block with the value \"I am block-scoped\".\n",
    "    c. Declares a variable funcVar inside the if block with var and value \"I am function-scoped\".\n",
    "    d. Prints inside the block all three variables (myVar, blockVar, funcVar).\n",
    "    e. Prints inside the function but outside the block all three variables.\n",
    "\n",
    "3. Outside the function, try printing all three variables.\n",
    "\n",
    "Fill in this code:\n",
    "\n",
    "```\n",
    "// 1. Declare global variable\n",
    "// __________________________\n",
    "\n",
    "function scopeTest() {\n",
    "    // 2a. Declare function-local variable\n",
    "    // __________________________\n",
    "\n",
    "    if (true) {\n",
    "        // 2b. Declare block-scoped variable\n",
    "        // __________________________\n",
    "\n",
    "        // 2c. Declare function-scoped variable with var\n",
    "        // __________________________\n",
    "\n",
    "        // 2d. Print variables inside block\n",
    "        // console.log(\"Inside block:\", __________________________);\n",
    "    }\n",
    "\n",
    "    // 2e. Print variables inside function but outside block\n",
    "    // console.log(\"Inside function:\", __________________________);\n",
    "}\n",
    "\n",
    "// 3. Call the function\n",
    "// __________________________\n",
    "\n",
    "// 4. Print variables outside the function\n",
    "// console.log(\"Outside function:\", __________________________);\n",
    "```\n",
    "\n",
    "<hr>"
   ]
  },
  {
   "cell_type": "markdown",
   "id": "e73f7347",
   "metadata": {},
   "source": [
    "\n",
    "<style>\n",
    ".glowing-text {\n",
    "  color: #fff; /* Set the text color to white or a light color for better contrast */\n",
    "  text-shadow: 0 0 10px #8a2be2, /* Purple glow */\n",
    "               0 0 20px #8a2be2, /* Deeper purple glow */\n",
    "               0 0 30px #4169e1, /* Blue glow */\n",
    "               0 0 40px #4169e1; /* Deeper blue glow */\n",
    "\n",
    "  font-weight: bold;\n",
    "}\n",
    "</style>\n",
    "\n",
    "<h2 class=\"glowing-text\">Homework</h2>\n",
    "\n",
    "\n",
    "**Now that you have completed your function lesson, you will be doing some homework to apply the concepts you learned.**\n",
    "\n",
    "\n",
    "**Homework problem 1:**\n",
    "\n",
    "Make a function that converts a farenheit input into celsius\n",
    "\n",
    "Hint: What is the formula for converting from Farenheit to Celsius? Use the formula in your function to start the conversion.\n",
    "\n",
    "F to C formula: C = (F-32) * 5/9\n"
   ]
  },
  {
   "cell_type": "code",
   "execution_count": null,
   "id": "30cbc187",
   "metadata": {
    "vscode": {
     "languageId": "javascript"
    }
   },
   "outputs": [],
   "source": [
    "// Write a function named toCelsius() that takes fahrenheight as input\n",
    "\n",
    "\n"
   ]
  },
  {
   "cell_type": "markdown",
   "id": "f1788254",
   "metadata": {},
   "source": [
    "**Homework problem 2:**\n",
    "\n",
    "Make a function that describes a person (age, gender, job, height). It should take parameters `age`, `gender`, `job`, `height` and output something along the lines of \"Hello! I am [age] years old and [gender]. My job is [job] and I'm [height] feet tall.\"\n",
    "\n",
    "Hint: Define variables for each description and output them in the function (each description can be a set value, you don't need to have a list of possible outputs)\n",
    "\n"
   ]
  },
  {
   "cell_type": "code",
   "execution_count": null,
   "id": "a1ec6bc1",
   "metadata": {
    "vscode": {
     "languageId": "javascript"
    }
   },
   "outputs": [],
   "source": [
    "// Use a function called PersonDesc()"
   ]
  },
  {
   "cell_type": "markdown",
   "id": "903416db",
   "metadata": {},
   "source": [
    "**Homework problem 3:**\n",
    "\n",
    "Make a function that takes an array and chooses a random string from the array to be outputted. Your array must have atleast 5 different objects, preferably in a specific category.\n",
    "\n",
    "Ex. The array could be fruits and examples would be apple, banana, orange etc.\n"
   ]
  },
  {
   "cell_type": "code",
   "execution_count": null,
   "id": "cc0d65ea",
   "metadata": {
    "vscode": {
     "languageId": "javascript"
    }
   },
   "outputs": [],
   "source": [
    "// Use this for your random generator function\n",
    "\n",
    "\n",
    "\n",
    "/* Delete this comment but make it so that your code outputs a \n",
    "random string each time, it should change each time*/"
   ]
  },
  {
   "cell_type": "markdown",
   "id": "06f7dc20",
   "metadata": {},
   "source": [
    "**Too easy?**\n",
    "\n",
    "**EXTRA  EXTRA CHALLENGE:**\n",
    "\n",
    "Make a function that randomly generates a person's description. Be creative, include things like age, job, favorite color, favorite sport, gender, ethnicity etc.\n",
    "\n",
    "Try to have atleast 10 indicators with a decent amount of options per category. Then randomly generate the whole description of the person. \n",
    "\n",
    "Ex. \n",
    "Name: John\n",
    "\n",
    "Age: 12\n",
    "\n",
    "Job: Unemployed\n",
    "\n",
    "Hair color: Purple\n",
    "\n",
    "Skin color: Neon Yellow\n",
    "\n",
    "Ethnicity: Martian\n",
    "\n",
    "Favorite Sport: Badminton\n",
    "\n",
    "Gender: Male\n",
    "\n",
    "Remember to randomly generate these from a list, so you should have many different possibilites to describe your person."
   ]
  },
  {
   "cell_type": "code",
   "execution_count": null,
   "id": "ed715b4f",
   "metadata": {
    "vscode": {
     "languageId": "javascript"
    }
   },
   "outputs": [],
   "source": [
    "// Good luck!!\n",
    "\n",
    "/* Remember, this challenge is supposed to be slightly tedious and difficult,\n",
    " so take your time and make the code as creative as possible.*/\n",
    "\n",
    " // Your output should come out all at once, like the example above."
   ]
  },
  {
   "cell_type": "markdown",
   "id": "b5814b07",
   "metadata": {},
   "source": [
    "# Submission\n",
    "\n",
    "**IMPORTANT: When uploading, please name your Jupyter notebook in this format: [FirstName][LastName]_funcs_hw.ipynb**\n",
    "Example: AnishGupta_funcs_hw.ipynb\n",
    "\n",
    "Submit the Google Form at <https://forms.gle/jzwrxptc15Ed8nbw6> by downloading this file and uploading it on the form.\n",
    "\n",
    "Requirements for homework:\n",
    "1. Questions 1, 2, and, 3 should be completed. You will get .3 points for each question completed.\n",
    "2. Complete extra practice to gain an extra 0.03 points."
   ]
  }
 ],
 "metadata": {
  "kernelspec": {
   "display_name": "Python 3",
   "language": "python",
   "name": "python3"
  },
  "language_info": {
   "codemirror_mode": {
    "name": "ipython",
    "version": 3
   },
   "file_extension": ".py",
   "mimetype": "text/x-python",
   "name": "python",
   "nbconvert_exporter": "python",
   "pygments_lexer": "ipython3",
   "version": "3.12.6"
  }
 },
 "nbformat": 4,
 "nbformat_minor": 5
}
