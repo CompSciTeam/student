{
 "cells": [
  {
   "cell_type": "raw",
   "id": "55333613",
   "metadata": {
    "vscode": {
     "languageId": "raw"
    }
   },
   "source": [
    "---\n",
    "layout: post\n",
    "toc: False\n",
    "title: Tinkerers - JS Functions Popcorn Hack Solutions\n",
    "description: These are the solutions to the popcorn hacks.\n",
    "permalink: /javascript/functions/tinkerers-phax-sols\n",
    "author: Anish G, James B, Vihaan B\n",
    "categories: [JavaScript]\n",
    "---\n"
   ]
  },
  {
   "cell_type": "markdown",
   "id": "8415d6ac",
   "metadata": {},
   "source": [
    "<style>\n",
    ".glowing-text {\n",
    "  color: #fff; /* Set the text color to white or a light color for better contrast */\n",
    "  text-shadow: 0 0 10px #8a2be2, /* Purple glow */\n",
    "               0 0 20px #8a2be2, /* Deeper purple glow */\n",
    "               0 0 30px #4169e1, /* Blue glow */\n",
    "               0 0 40px #4169e1; /* Deeper blue glow */\n",
    "\n",
    "  font-weight: bold;\n",
    "}\n",
    "</style>\n",
    "\n",
    "<h2 class=\"glowing-text\">🍿 POPCORN HACK NO. 1 🍿</h2>\n",
    "\n",
    "Solution:"
   ]
  },
  {
   "cell_type": "code",
   "execution_count": 3,
   "id": "9cefe6c0",
   "metadata": {
    "vscode": {
     "languageId": "html"
    }
   },
   "outputs": [
    {
     "data": {
      "text/html": [
       "\n",
       "<html>\n",
       "<body>\n",
       "\n",
       "    <p>Farenheight to Celsius Converter</p>\n",
       "\n",
       "    <input type=\"number\" id=\"inputField\" placeholder=\"Enter degrees (F)\">\n",
       "    <button id=\"calculateButton\">Calculate</button>\n",
       "\n",
       "    <div id=\"output1\">Your results will appear here.</div>\n",
       "\n",
       "    <script>\n",
       "\n",
       "    (() => {\n",
       "\n",
       "    const button = document.getElementById(\"calculateButton\");\n",
       "    const input = document.getElementById(\"inputField\");\n",
       "    const output = document.getElementById(\"output1\");\n",
       "\n",
       "    // ^^ DO NOT MODIFY ANY ABOVE CODE ^^\n",
       "\n",
       "    // Define your function out here\n",
       "\n",
       "    function toCelsius(degrees_fh){\n",
       "        return (degrees_fh - 32) / 1.8\n",
       "    }\n",
       "\n",
       "    let result;\n",
       "    let inpval;\n",
       "\n",
       "    button.addEventListener(\"click\", () => {\n",
       "\n",
       "        /* \n",
       "        Call your toCelsius() function, using the user's input from input.value.\n",
       "        Save the result to a variable.\n",
       "\n",
       "        Note that input.value returns a string. You will need to turn it into a\n",
       "        number using Number(), and then feed that number to your function.\n",
       "\n",
       "        */ \n",
       "\n",
       "        inpval = Number(input.value);\n",
       "        result = toCelsius(inpval);\n",
       "\n",
       "\n",
       "        // Log the result to console\n",
       "        console.log(inpval + \" F = \" + result + \"C\");\n",
       "\n",
       "        // Add the result to the end of DOM:\n",
       "        output.innerText += \"\\n\" + inpval + \" F = \" + result + \"C\"\n",
       "\n",
       "    // vv DO NOT MODIFY ANY BELOW CODE vv\n",
       "    });\n",
       "\n",
       "    })();\n",
       "\n",
       "  </script>\n",
       "\n",
       "</body>\n",
       "</html>\n"
      ],
      "text/plain": [
       "<IPython.core.display.HTML object>"
      ]
     },
     "metadata": {},
     "output_type": "display_data"
    }
   ],
   "source": [
    "%%html\n",
    "\n",
    "<html>\n",
    "<body>\n",
    "\n",
    "    <p>Farenheight to Celsius Converter</p>\n",
    "\n",
    "    <input type=\"number\" id=\"inputField\" placeholder=\"Enter degrees (F)\">\n",
    "    <button id=\"calculateButton\">Calculate</button>\n",
    "\n",
    "    <div id=\"output1\">Your results will appear here.</div>\n",
    "\n",
    "    <script>\n",
    "\n",
    "    (() => {\n",
    "\n",
    "    const button = document.getElementById(\"calculateButton\");\n",
    "    const input = document.getElementById(\"inputField\");\n",
    "    const output = document.getElementById(\"output1\");\n",
    "\n",
    "    // ^^ DO NOT MODIFY ANY ABOVE CODE ^^\n",
    "\n",
    "    // Define your function out here\n",
    "\n",
    "    function toCelsius(degrees_fh){\n",
    "        return (degrees_fh - 32) / 1.8\n",
    "    }\n",
    "\n",
    "    let result;\n",
    "    let inpval;\n",
    "\n",
    "    button.addEventListener(\"click\", () => {\n",
    "  \n",
    "        /* \n",
    "        Call your toCelsius() function, using the user's input from input.value.\n",
    "        Save the result to a variable.\n",
    "        \n",
    "        Note that input.value returns a string. You will need to turn it into a\n",
    "        number using Number(), and then feed that number to your function.\n",
    "\n",
    "        */ \n",
    "\n",
    "        inpval = Number(input.value);\n",
    "        result = toCelsius(inpval);\n",
    "\n",
    "\n",
    "        // Log the result to console\n",
    "        console.log(inpval + \" F = \" + result + \"C\");\n",
    "\n",
    "        // Add the result to the end of DOM:\n",
    "        output.innerText += \"\\n\" + inpval + \" F = \" + result + \"C\"\n",
    "\n",
    "    // vv DO NOT MODIFY ANY BELOW CODE vv\n",
    "    });\n",
    "\n",
    "    })();\n",
    "\n",
    "  </script>\n",
    "\n",
    "</body>\n",
    "</html>"
   ]
  },
  {
   "cell_type": "markdown",
   "id": "896fac9b",
   "metadata": {},
   "source": [
    "<style>\n",
    ".glowing-text {\n",
    "  color: #fff; /* Set the text color to white or a light color for better contrast */\n",
    "  text-shadow: 0 0 10px #8a2be2, /* Purple glow */\n",
    "               0 0 20px #8a2be2, /* Deeper purple glow */\n",
    "               0 0 30px #4169e1, /* Blue glow */\n",
    "               0 0 40px #4169e1; /* Deeper blue glow */\n",
    "\n",
    "  font-weight: bold;\n",
    "}\n",
    "</style>\n",
    "\n",
    "<h2 class=\"glowing-text\">🍿 POPCORN HACK NO. 2 🍿</h2>\n",
    "\n",
    "Solution:"
   ]
  },
  {
   "cell_type": "code",
   "execution_count": null,
   "id": "f9e48168",
   "metadata": {
    "vscode": {
     "languageId": "html"
    }
   },
   "outputs": [
    {
     "data": {
      "text/html": [
       "\n",
       "\n",
       "<div id=\"phack2\">Your results will appear here</div>\n",
       "\n",
       "<script>\n",
       "\n",
       "    (() => {\n",
       "\n",
       "        const output = document.getElementById(\"phack2\");\n",
       "\n",
       "\n",
       "        function findMax(arr){\n",
       "            let maxNum = arr[0];\n",
       "            for (let i = 0; i < arr.length; i++){\n",
       "                if (arr[i] > maxNum){\n",
       "                    maxNum = arr[i];\n",
       "                }\n",
       "            }\n",
       "\n",
       "            output.innerText += \"\\n\" + \"Maximum number in array [\" + arr + \"] is \" + maxNum;\n",
       "            console.log(\"Maximum number in array [\" + arr + \"] is \" + maxNum);\n",
       "        }\n",
       "\n",
       "        findMax([1, 2, 3, 4, 4, 4, 5, 6, 8, 4, 1, 7]);\n",
       "        findMax([1]);\n",
       "        findMax([97883, 981, 81283, 987213, 1, -391]);\n",
       "\n",
       "\n",
       "\n",
       "    })();\n",
       "\n",
       "</script>\n"
      ],
      "text/plain": [
       "<IPython.core.display.HTML object>"
      ]
     },
     "metadata": {},
     "output_type": "display_data"
    }
   ],
   "source": [
    "%%html\n",
    "\n",
    "\n",
    "<div id=\"phack2\">Your results will appear here:</div>\n",
    "\n",
    "<script>\n",
    "\n",
    "    (() => {\n",
    "\n",
    "        const output = document.getElementById(\"phack2\");\n",
    "\n",
    "     \n",
    "        function findMax(arr){\n",
    "            let maxNum = arr[0];\n",
    "            for (let i = 0; i < arr.length; i++){\n",
    "                if (arr[i] > maxNum){\n",
    "                    maxNum = arr[i];\n",
    "                }\n",
    "            }\n",
    "\n",
    "            output.innerText += \"\\n\" + \"Maximum number in array [\" + arr + \"] is \" + maxNum;\n",
    "            console.log(\"Maximum number in array [\" + arr + \"] is \" + maxNum);\n",
    "        }\n",
    "\n",
    "        findMax([1, 2, 3, 4, 4, 4, 5, 6, 8, 4, 1, 7]);\n",
    "        findMax([1]);\n",
    "        findMax([97883, 981, 81283, 987213, 1, -391]);\n",
    "\n",
    "\n",
    "        \n",
    "    })();\n",
    "\n",
    "</script>"
   ]
  }
 ],
 "metadata": {
  "kernelspec": {
   "display_name": "Python 3",
   "language": "python",
   "name": "python3"
  },
  "language_info": {
   "codemirror_mode": {
    "name": "ipython",
    "version": 3
   },
   "file_extension": ".py",
   "mimetype": "text/x-python",
   "name": "python",
   "nbconvert_exporter": "python",
   "pygments_lexer": "ipython3",
   "version": "3.12.6"
  }
 },
 "nbformat": 4,
 "nbformat_minor": 5
}
